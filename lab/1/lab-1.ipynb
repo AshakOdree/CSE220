{
 "cells": [
  {
   "cell_type": "code",
   "execution_count": 24,
   "metadata": {},
   "outputs": [
    {
     "name": "stdout",
     "output_type": "stream",
     "text": [
      "[40, 50, 60, 0, 0, 0]\n"
     ]
    }
   ],
   "source": [
    "#--------------------------------#Task-1-----------------------------------\n",
    "\n",
    "def shiftLeft(source,k):\n",
    "\n",
    "    i=len(source)-1 #pointer at the last index of source\n",
    "\n",
    "    while(i>=k):\n",
    "\n",
    "        source[i-k]=source[i]  #shifting elements k places to the right\n",
    "\n",
    "        i=i-1\n",
    "    i=len(source)-1\n",
    "\n",
    "    while(i>=k):\n",
    "\n",
    "        source[i]=0 #setting first k values to 0\n",
    "\n",
    "        i=i-1\n",
    "source=[10,20,30,40,50,60]\n",
    "\n",
    "shiftLeft(source,3)\n",
    "\n",
    "print(source)"
   ]
  },
  {
   "cell_type": "code",
   "execution_count": 30,
   "metadata": {},
   "outputs": [
    {
     "name": "stdout",
     "output_type": "stream",
     "text": [
      "[40, 50, 60, 10, 20, 30]\n"
     ]
    }
   ],
   "source": [
    "#--------------------------------#task-2----------------------------------\n",
    "\n",
    "def rotateLeft(source,start):\n",
    "    circular=[0]*len(source)\n",
    "\n",
    "    index=start\n",
    "\n",
    "    i=0\n",
    "\n",
    "    while(i<len(source)):\n",
    "\n",
    "        circular[i]=source[index]\n",
    "\n",
    "        index=(index+1)%len(source)#11%11=,12%11=1,13%11=2\n",
    "\n",
    "        i=i+1\n",
    "    return circular\n",
    "    \n",
    "\n",
    "source=[10,20,30,40,50,60] #creating a circular array with start 8 and size 5\n",
    "\n",
    "b=rotateLeft(source,3)\n",
    "print(b)"
   ]
  },
  {
   "cell_type": "code",
   "execution_count": 38,
   "metadata": {},
   "outputs": [
    {
     "name": "stdout",
     "output_type": "stream",
     "text": [
      "[10, 20, 40, 50, 0, 0, 0]\n"
     ]
    }
   ],
   "source": [
    "#----------------------------------#task-3----------------------------------\n",
    "def remove(source,size,element):\n",
    "    i=len(source)-1 #pointer at the last index of source\n",
    "\n",
    "    while(i>=element):\n",
    "        if i==element:\n",
    "            break\n",
    "        else:\n",
    "            source[element]=source[element+1]\n",
    "            element= element+1\n",
    "\n",
    "    \n",
    "source=[10,20,30,40,50,0,0]\n",
    "remove(source,5,2)\n",
    "print(source)"
   ]
  },
  {
   "cell_type": "code",
   "execution_count": 77,
   "metadata": {},
   "outputs": [
    {
     "name": "stdout",
     "output_type": "stream",
     "text": [
      "[10, 30, 50, 0, 0, 0, 0, 0, 0]\n"
     ]
    }
   ],
   "source": [
    "#-------------------------------#task-4-----------------------------------\n",
    "\n",
    "def removeAll(source,size,element):\n",
    "    liST = []\n",
    "    #loop start\n",
    "    nUm = 0\n",
    "    while nUm < (len(source)-1):\n",
    "        if (source[nUm] != element):\n",
    "            liST += [source[nUm]]\n",
    "        nUm+=1\n",
    "    #new loop start(for loop)\n",
    "    for j in range(len(liST),len(source)):\n",
    "        liST = liST+[0]\n",
    "    return liST\n",
    "source=[10,2,30,2,50,2,2,0,0]\n",
    "print(removeAll(source,7,2))"
   ]
  },
  {
   "cell_type": "code",
   "execution_count": 78,
   "metadata": {},
   "outputs": [
    {
     "name": "stdout",
     "output_type": "stream",
     "text": [
      "True\n"
     ]
    }
   ],
   "source": [
    "#----------------------------#task-5----------------------------------\n",
    "def equalsum(source):\n",
    "  sAmE = 0\n",
    "  #loop start\n",
    "  nUm= 0\n",
    "  while nUm < (len(source)-1):\n",
    "    sUmM = 0\n",
    "    aDD = 0\n",
    "    #new loop start\n",
    "    nUm2 = 0\n",
    "    while nUm2 < nUm+2:\n",
    "      aDD+=array[nUm2]\n",
    "      nUm2+=1\n",
    "  \n",
    "    #for loop start\n",
    "    for  nUm3 in range(nUm+2,len(array)):\n",
    "        sUmM+=array[nUm3]\n",
    "  #if condition start\n",
    "    if sUmM==aDD:\n",
    "      sAmE+=1\n",
    "    else:\n",
    "      None\n",
    "    #if condition end\n",
    "    nUm+=1 \n",
    "  #printing condition start  \n",
    "  if sAmE==1:\n",
    "    print(\"True\")\n",
    "  else:\n",
    "    print(\"False\")\n",
    "    \n",
    "array = [10, 3, 1, 2, 10]  \n",
    "equalsum(array)"
   ]
  },
  {
   "cell_type": "code",
   "execution_count": 79,
   "metadata": {},
   "outputs": [
    {
     "ename": "ValueError",
     "evalue": "invalid literal for int() with base 10: ''",
     "output_type": "error",
     "traceback": [
      "\u001b[1;31m---------------------------------------------------------------------------\u001b[0m",
      "\u001b[1;31mValueError\u001b[0m                                Traceback (most recent call last)",
      "\u001b[1;32m<ipython-input-79-395b11517cd4>\u001b[0m in \u001b[0;36m<module>\u001b[1;34m\u001b[0m\n\u001b[0;32m     22\u001b[0m     \u001b[1;32mreturn\u001b[0m \u001b[0maRRay\u001b[0m\u001b[1;33m\u001b[0m\u001b[1;33m\u001b[0m\u001b[0m\n\u001b[0;32m     23\u001b[0m \u001b[1;33m\u001b[0m\u001b[0m\n\u001b[1;32m---> 24\u001b[1;33m \u001b[0muSeR\u001b[0m \u001b[1;33m=\u001b[0m \u001b[0mint\u001b[0m\u001b[1;33m(\u001b[0m\u001b[0minput\u001b[0m\u001b[1;33m(\u001b[0m\u001b[1;33m)\u001b[0m\u001b[1;33m)\u001b[0m\u001b[1;33m\u001b[0m\u001b[1;33m\u001b[0m\u001b[0m\n\u001b[0m\u001b[0;32m     25\u001b[0m \u001b[0mprint\u001b[0m\u001b[1;33m(\u001b[0m\u001b[0marraySeries\u001b[0m\u001b[1;33m(\u001b[0m\u001b[0muSeR\u001b[0m\u001b[1;33m)\u001b[0m\u001b[1;33m)\u001b[0m\u001b[1;33m\u001b[0m\u001b[1;33m\u001b[0m\u001b[0m\n",
      "\u001b[1;31mValueError\u001b[0m: invalid literal for int() with base 10: ''"
     ]
    }
   ],
   "source": [
    "#----------------------------#task-6----------------------------------\n",
    "def arraySeries(source):\n",
    "    iNdEx=0\n",
    "    aRRay = [0]*(source*source)\n",
    "    # loop start\n",
    "    nUm= 1\n",
    "    while nUm< source+1:\n",
    "        nEw = source-nUm\n",
    "        #new loop start\n",
    "        nUm1=0\n",
    "        while nUm1 < nEw:\n",
    "            aRRay[iNdEx] = 0\n",
    "            iNdEx = iNdEx+1\n",
    "            nUm1+=1\n",
    "       #for loop start\n",
    "        for y in range(source-nEw,0,-1):\n",
    "            aRRay[iNdEx] = y\n",
    "            iNdEx = iNdEx+1\n",
    "        #increassing first loop\n",
    "        nUm+=1\n",
    "\n",
    "    return aRRay\n",
    "\n",
    "uSeR = int(input())\n",
    "print(arraySeries(uSeR))"
   ]
  },
  {
   "cell_type": "code",
   "execution_count": null,
   "metadata": {},
   "outputs": [
    {
     "name": "stdout",
     "output_type": "stream",
     "text": [
      "3\n"
     ]
    }
   ],
   "source": [
    "#----------------------------#task-7----------------------------------\n",
    "def maxBunchCount(source):\n",
    "  toTaL = 0\n",
    "  nUm= 0\n",
    "  while nUm<len(source):\n",
    "      #start 0 to all\n",
    "    coUnT = 1 \n",
    "    for nUm in range(nUm,len(array)-1):\n",
    "    #access 0 to 6\n",
    "    \n",
    "      if array[nUm]==array[nUm+1]:\n",
    "        coUnT+=1\n",
    "      else:\n",
    "        break\n",
    "    #it will stop here\n",
    "    nUm+=1\n",
    "\n",
    "    if coUnT>toTaL:\n",
    "      toTaL = coUnT\n",
    "    else:\n",
    "      None\n",
    "  print(toTaL)\n",
    "array =  [1, 2, 2, 3, 4, 4, 4]\n",
    "maxBunchCount(array)\n",
    "#Input: [1,1,2, 2, 1, 1,1,1] "
   ]
  },
  {
   "cell_type": "code",
   "execution_count": null,
   "metadata": {},
   "outputs": [
    {
     "name": "stdout",
     "output_type": "stream",
     "text": [
      "True\n"
     ]
    }
   ],
   "source": [
    "#----------------------------#task-8----------------------------------\n",
    "def repition(array):\n",
    "    tEmP = {}\n",
    "    nUm = 0\n",
    "    while nUm < len(array):\n",
    "        #access 0 to all\n",
    "        if array[nUm] not in tEmP:\n",
    "            #if array not in the dictonary\n",
    "            tEmP[array[nUm]] = 0\n",
    "        else:\n",
    "            None\n",
    "        tEmP[array[nUm]]= tEmP[array[nUm]]+1\n",
    "        #it will be add on the dictonary\n",
    "        nUm+=1\n",
    "    for nUm1 in tEmP.values():\n",
    "        #access all the value of the dictonary\n",
    "        coUnT = 0\n",
    "        for nUm2 in tEmP.values():\n",
    "            #counting it \n",
    "            if nUm1>1 and nUm1==nUm2:\n",
    "                coUnT= coUnT+1\n",
    "        if coUnT>=2:\n",
    "            return True\n",
    "            #if it will find tow same \n",
    "    if coUnT<2:\n",
    "        return False\n",
    "    \n",
    "print(repition([4,5,6,6,4,3,6,4]))\n",
    "#Input: {3,4,6,3,4,7,4,6,8,6,6} "
   ]
  },
  {
   "cell_type": "code",
   "execution_count": null,
   "metadata": {},
   "outputs": [
    {
     "name": "stdout",
     "output_type": "stream",
     "text": [
      "True\n"
     ]
    }
   ],
   "source": [
    "def palindrome(source, start, size):\n",
    "    tEmP = size//2\n",
    "    coUnT = 0\n",
    "    rEsuLT = True\n",
    "    for i in range(tEmP): #acess all\n",
    "        if source[start] == source[(start+size-coUnT)%len(source)-1]:\n",
    "            #5%6=5\n",
    "            start += 1\n",
    "            size -= 1\n",
    "            coUnT += 1\n",
    "        else:\n",
    "            rEsuLT = False\n",
    "            #prnit('false')\n",
    "            break\n",
    "    return rEsuLT\n",
    "    #print('true')\n",
    "lis= [20,10,0,0,0,10,20,30] \n",
    "#Input:[10,20,0,0,0,10,20,30]\n",
    "print(palindrome(lis,5,5))"
   ]
  },
  {
   "cell_type": "code",
   "execution_count": null,
   "metadata": {},
   "outputs": [
    {
     "name": "stdout",
     "output_type": "stream",
     "text": [
      "[10, 20, 40]\n"
     ]
    }
   ],
   "source": [
    "def coMMon(array1,array2,size_c,size_d,index_c,start2):\n",
    "    liST=[]\n",
    "    #looop start\n",
    "\n",
    "    coUnT=0\n",
    "    while (coUnT<size_c):\n",
    "        nEW=start2\n",
    "        aDD = 0\n",
    "        #new loop start\n",
    "        while (aDD<size_d):\n",
    "            if array2[nEW] is array1[index_c]:\n",
    "                liST+=[array2[nEW]]\n",
    "            else:\n",
    "                None\n",
    "\n",
    "            #increasing loop \n",
    "            nEW=(nEW+1)%len(array2)\n",
    "            aDD+=1\n",
    "        \n",
    "        #increasing loop\n",
    "        index_c=(index_c+1)%len(array1)\n",
    "        coUnT+=1\n",
    "\n",
    "    return liST\n",
    "\n",
    "\n",
    "Circular_array_1 = [40,50,0,0,0,10,20,30]\n",
    "Circular_array_2 = [10,20,5,0,0,0,0,0,5,40,15,25]\n",
    "print(coMMon(Circular_array_1,Circular_array_2,5,7,5,8))"
   ]
  },
  {
   "cell_type": "code",
   "execution_count": 97,
   "metadata": {},
   "outputs": [
    {
     "name": "stdout",
     "output_type": "stream",
     "text": [
      "7 1 2 4 5 6 \n",
      "6 7 1 4 5 \n",
      "6 7 4 5 \n",
      "7 4 6 \n",
      "4 7 \n",
      "7\n"
     ]
    }
   ],
   "source": [
    "import random\n",
    "def MusicalChair(arr):\n",
    "    end = 6\n",
    "    size = 7\n",
    "    #loop start\n",
    "    while True:\n",
    "        temp = arr[end]\n",
    "        count=0\n",
    "        #new loop \n",
    "        while(count<size-1):\n",
    "            arr[end] = arr[end-1]\n",
    "            end-=1\n",
    "            #condition\n",
    "            if end<0:\n",
    "                end = len(arr)-1\n",
    "            count+=1\n",
    "        arr[0] = temp\n",
    "        end = size-1\n",
    "        n = random.randint(0, 3)\n",
    "        #loop end\n",
    "        if n==1:\n",
    "            arr.pop(size//2)\n",
    "            size-=1\n",
    "            end =size-1\n",
    "            if len(arr)==1:\n",
    "                print(arr[0])\n",
    "                break\n",
    "            else:\n",
    "                x=0\n",
    "                while (x<len(arr)):\n",
    "                # for x in range(len(arr)):\n",
    "                    print(arr[x],end=\" \")\n",
    "                    x+=1\n",
    "                print()\n",
    "arr = [1,2,3,4,5,6,7]\n",
    "MusicalChair(arr)\n"
   ]
  },
  {
   "cell_type": "code",
   "execution_count": 98,
   "metadata": {},
   "outputs": [
    {
     "name": "stdout",
     "output_type": "stream",
     "text": [
      "Total players: P1 P2 P3 P4 P5 P6 P7 \n",
      "Remaining players: P7 P1 P2 P4 P5 P6 \n",
      "Remaining players: P1 P2 P4 P6 P7 \n",
      "Remaining players: P7 P1 P4 P6 \n",
      "Remaining players: P6 P7 P4 \n",
      "Remaining players: P7 P6 \n",
      "The winner is: P7\n"
     ]
    }
   ],
   "source": [
    "import random\n",
    "\n",
    "def MusicalChair(arr):\n",
    "    print(\"Total players: \", end=\"\")\n",
    "    for x in range(len(arr)):\n",
    "        print(arr[x],end=\" \")\n",
    "    print()\n",
    "    end = 6\n",
    "    size = 7\n",
    "    while True:\n",
    "        temp = arr[end]\n",
    "        for i in range(size-1):\n",
    "            arr[end] = arr[end-1]\n",
    "            end-=1\n",
    "            if end<0:\n",
    "                end = len(arr)-1\n",
    "        arr[0] = temp\n",
    "        end = size-1\n",
    "        n = random.randint(0, 3)\n",
    "        if n==1:\n",
    "            arr.pop(size//2)\n",
    "            size-=1\n",
    "            end = size-1\n",
    "            if len(arr)==1:\n",
    "                print(\"The winner is:\",arr[0])\n",
    "                break\n",
    "            else:\n",
    "                print(\"Remaining players: \", end=\"\")\n",
    "                for x in range(len(arr)):\n",
    "                    print(arr[x],end=\" \")\n",
    "                print()\n",
    "\n",
    "\n",
    "arr = [\"P1\",\"P2\",\"P3\",\"P4\",\"P5\",\"P6\",\"P7\"]\n",
    "MusicalChair(arr)"
   ]
  },
  {
   "cell_type": "code",
   "execution_count": null,
   "metadata": {},
   "outputs": [],
   "source": []
  }
 ],
 "metadata": {
  "interpreter": {
   "hash": "8fac594bfae6525c0c41b4041d2d72effa188cc8ead05f81b1fab2bb098927fb"
  },
  "kernelspec": {
   "display_name": "Python 3.8.5 64-bit ('base': conda)",
   "name": "python3"
  },
  "language_info": {
   "codemirror_mode": {
    "name": "ipython",
    "version": 3
   },
   "file_extension": ".py",
   "mimetype": "text/x-python",
   "name": "python",
   "nbconvert_exporter": "python",
   "pygments_lexer": "ipython3",
   "version": "3.8.5"
  },
  "orig_nbformat": 4
 },
 "nbformat": 4,
 "nbformat_minor": 2
}
